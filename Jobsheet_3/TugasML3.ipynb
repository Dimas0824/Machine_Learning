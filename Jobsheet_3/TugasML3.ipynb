{
  "nbformat": 4,
  "nbformat_minor": 0,
  "metadata": {
    "colab": {
      "provenance": [],
      "mount_file_id": "15I-MEw9qZ3RPpZUzr_MEl0344oz4sBid",
      "authorship_tag": "ABX9TyN0hV3Yrl1vPkRw7bGWHNfi",
      "include_colab_link": true
    },
    "kernelspec": {
      "name": "python3",
      "display_name": "Python 3"
    },
    "language_info": {
      "name": "python"
    }
  },
  "cells": [
    {
      "cell_type": "markdown",
      "metadata": {
        "id": "view-in-github",
        "colab_type": "text"
      },
      "source": [
        "<a href=\"https://colab.research.google.com/github/Dimas0824/Machine_Learning/blob/main/Jobsheet_3/TugasML3.ipynb\" target=\"_parent\"><img src=\"https://colab.research.google.com/assets/colab-badge.svg\" alt=\"Open In Colab\"/></a>"
      ]
    },
    {
      "cell_type": "markdown",
      "source": [
        "**💻\n",
        "Tugas Praktikum**\n",
        "\n",
        "Wisconsin Breast Cancer\n",
        "\n",
        "Deskripsi Tugas\n",
        "Pada tugas pratikum ini Anda akan menggunakan data \"Wisconsin Breast Cancer\". Data tersebut terdiri dari 569 data yang digunakan untuk mendiagnonis jenis kanker Malignant (M) dan Benign (B). Tugas Anda adalah,"
      ],
      "metadata": {
        "id": "1ITh62kl2RGT"
      }
    },
    {
      "cell_type": "markdown",
      "source": [
        "1. Pisahkan antara variabel yang dapat digunakan dan variabel yang tidak dapat digunakan."
      ],
      "metadata": {
        "id": "3yKdpvMo2ZEh"
      }
    },
    {
      "cell_type": "code",
      "source": [
        "#Import library\n",
        "import pandas as pd\n",
        "import numpy as np\n",
        "from sklearn.preprocessing import StandardScaler\n",
        "from sklearn.model_selection import train_test_split\n",
        "from collections import Counter\n",
        "\n",
        "#Load Data\n",
        "df = pd.read_csv('/content/drive/MyDrive/Machine Learning/wbc.csv')\n",
        "print(\"Data telah diload\")\n",
        "print(f\"Shape: {df.shape}\")\n",
        "print(f\"Kolom: {list(df.columns)}\\n\")"
      ],
      "metadata": {
        "colab": {
          "base_uri": "https://localhost:8080/"
        },
        "id": "NzMGjwuw21TQ",
        "outputId": "6bae3f13-df77-480e-d00b-d73abf8a01b2"
      },
      "execution_count": null,
      "outputs": [
        {
          "output_type": "stream",
          "name": "stdout",
          "text": [
            "Data telah diload\n",
            "Shape: (569, 33)\n",
            "Kolom: ['id', 'diagnosis', 'radius_mean', 'texture_mean', 'perimeter_mean', 'area_mean', 'smoothness_mean', 'compactness_mean', 'concavity_mean', 'concave points_mean', 'symmetry_mean', 'fractal_dimension_mean', 'radius_se', 'texture_se', 'perimeter_se', 'area_se', 'smoothness_se', 'compactness_se', 'concavity_se', 'concave points_se', 'symmetry_se', 'fractal_dimension_se', 'radius_worst', 'texture_worst', 'perimeter_worst', 'area_worst', 'smoothness_worst', 'compactness_worst', 'concavity_worst', 'concave points_worst', 'symmetry_worst', 'fractal_dimension_worst', 'Unnamed: 32']\n",
            "\n"
          ]
        }
      ]
    },
    {
      "cell_type": "code",
      "execution_count": null,
      "metadata": {
        "colab": {
          "base_uri": "https://localhost:8080/"
        },
        "id": "fBih7VHi2N64",
        "outputId": "622fdef5-74a7-436b-f204-095f845d5e4c"
      },
      "outputs": [
        {
          "output_type": "stream",
          "name": "stdout",
          "text": [
            "Analisis kolom:\n",
            "- Kolom tidak berguna (akan dihapus): ['id', 'Unnamed: 32']\n",
            "- Kolom target: diagnosis\n",
            "- Kolom yang dapat digunakan: 31 kolom\n",
            "- Shape dataset setelah pembersihan: (569, 31)\n",
            "\n",
            "Jenis kolom:\n",
            "- Kolom numerik: 30 kolom\n",
            "  ['radius_mean', 'texture_mean', 'perimeter_mean', 'area_mean', 'smoothness_mean']...\n",
            "- Kolom kategorikal: 1 kolom\n",
            "  ['diagnosis']\n"
          ]
        }
      ],
      "source": [
        "# Simpan kolom id untuk identifikasi verifikasi encoding\n",
        "ids = df[\"id\"].copy()\n",
        "\n",
        "# Menghapus kolom tidak dibutuhkan\n",
        "unusable_columns = [\"id\", \"Unnamed: 32\"]  # id dan kolom kosong tidak berguna\n",
        "target_column = \"diagnosis\"\n",
        "\n",
        "print(\"Analisis kolom:\")\n",
        "print(f\"- Kolom tidak berguna (akan dihapus): {unusable_columns}\")\n",
        "print(f\"- Kolom target: {target_column}\")\n",
        "\n",
        "usable_columns = [col for col in df.columns if col not in unusable_columns]\n",
        "df_clean = df[usable_columns].copy()\n",
        "\n",
        "print(f\"- Kolom yang dapat digunakan: {len(usable_columns)} kolom\")\n",
        "print(f\"- Shape dataset setelah pembersihan: {df_clean.shape}\")\n",
        "\n",
        "# Identifikasi kolom numerik vs kategorikal\n",
        "numeric_columns = df_clean.select_dtypes(include=[np.number]).columns.tolist()\n",
        "categorical_columns = df_clean.select_dtypes(include=[\"object\"]).columns.tolist()\n",
        "\n",
        "print(\"\\nJenis kolom:\")\n",
        "print(f\"- Kolom numerik: {len(numeric_columns)} kolom\")\n",
        "print(f\"  {numeric_columns[:5]}...\")\n",
        "print(f\"- Kolom kategorikal: {len(categorical_columns)} kolom\")\n",
        "print(f\"  {categorical_columns}\")"
      ]
    },
    {
      "cell_type": "markdown",
      "source": [
        "2. Lakukan proses encoding pada kolom \"diagnosis\"."
      ],
      "metadata": {
        "id": "8bw3vK3U2a5R"
      }
    },
    {
      "cell_type": "code",
      "source": [
        "print(\"\\nDistribusi diagnosis sebelum encoding:\")\n",
        "print(df_clean[\"diagnosis\"].value_counts())\n",
        "\n",
        "diagnosis_mapping = {\"M\": 0, \"B\": 1}\n",
        "df_clean[\"diagnosis\"] = df_clean[\"diagnosis\"].map(diagnosis_mapping)\n",
        "\n",
        "print(f\"\\n✓ Encoding berhasil dengan mapping: {diagnosis_mapping}\")\n",
        "print(\"Distribusi diagnosis setelah encoding:\")\n",
        "print(df_clean[\"diagnosis\"].value_counts())\n",
        "\n",
        "# Tambahkan id kembali hanya untuk cek (bukan untuk model)\n",
        "df_clean[\"id\"] = ids\n",
        "\n",
        "# Cek baris 21–25 (index 20–24)\n",
        "print(\"\\nBaris 21–25 dengan id dan diagnosis encoded:\")\n",
        "print(df_clean.loc[20:24, [\"id\", \"diagnosis\"]])\n"
      ],
      "metadata": {
        "colab": {
          "base_uri": "https://localhost:8080/"
        },
        "id": "mDmYbosE2l7Z",
        "outputId": "b07612fa-7b0e-40b2-ee7e-396461b8c8af"
      },
      "execution_count": null,
      "outputs": [
        {
          "output_type": "stream",
          "name": "stdout",
          "text": [
            "\n",
            "Distribusi diagnosis sebelum encoding:\n",
            "diagnosis\n",
            "B    357\n",
            "M    212\n",
            "Name: count, dtype: int64\n",
            "\n",
            "✓ Encoding berhasil dengan mapping: {'M': 0, 'B': 1}\n",
            "Distribusi diagnosis setelah encoding:\n",
            "diagnosis\n",
            "1    357\n",
            "0    212\n",
            "Name: count, dtype: int64\n",
            "\n",
            "Baris 21–25 dengan id dan diagnosis encoded:\n",
            "         id  diagnosis\n",
            "20  8510653          1\n",
            "21  8510824          1\n",
            "22  8511133          0\n",
            "23   851509          0\n",
            "24   852552          0\n"
          ]
        }
      ]
    },
    {
      "cell_type": "markdown",
      "source": [
        "3. Lakukan proses standarisasi pada semua kolom yang memiliki nilai numerik."
      ],
      "metadata": {
        "id": "5XrJNJLe2d0B"
      }
    },
    {
      "cell_type": "code",
      "source": [
        "feature_cols = [col for col in df_clean.columns if col not in [\"id\", \"diagnosis\"]]\n",
        "scaler = StandardScaler()\n",
        "df_clean[feature_cols] = scaler.fit_transform(df_clean[feature_cols])\n",
        "\n",
        "print(\"\\nContoh data setelah standarisasi:\")\n",
        "print(df_clean.head())\n"
      ],
      "metadata": {
        "id": "EFWAyStU2mM4",
        "colab": {
          "base_uri": "https://localhost:8080/"
        },
        "outputId": "0942a429-9f71-4e3f-a77e-f1c9f3606e0a"
      },
      "execution_count": null,
      "outputs": [
        {
          "output_type": "stream",
          "name": "stdout",
          "text": [
            "\n",
            "Contoh data setelah standarisasi:\n",
            "   diagnosis  radius_mean  texture_mean  perimeter_mean  area_mean  \\\n",
            "0          0     1.097064     -2.073335        1.269934   0.984375   \n",
            "1          0     1.829821     -0.353632        1.685955   1.908708   \n",
            "2          0     1.579888      0.456187        1.566503   1.558884   \n",
            "3          0    -0.768909      0.253732       -0.592687  -0.764464   \n",
            "4          0     1.750297     -1.151816        1.776573   1.826229   \n",
            "\n",
            "   smoothness_mean  compactness_mean  concavity_mean  concave points_mean  \\\n",
            "0         1.568466          3.283515        2.652874             2.532475   \n",
            "1        -0.826962         -0.487072       -0.023846             0.548144   \n",
            "2         0.942210          1.052926        1.363478             2.037231   \n",
            "3         3.283553          3.402909        1.915897             1.451707   \n",
            "4         0.280372          0.539340        1.371011             1.428493   \n",
            "\n",
            "   symmetry_mean  ...  texture_worst  perimeter_worst  area_worst  \\\n",
            "0       2.217515  ...      -1.359293         2.303601    2.001237   \n",
            "1       0.001392  ...      -0.369203         1.535126    1.890489   \n",
            "2       0.939685  ...      -0.023974         1.347475    1.456285   \n",
            "3       2.867383  ...       0.133984        -0.249939   -0.550021   \n",
            "4      -0.009560  ...      -1.466770         1.338539    1.220724   \n",
            "\n",
            "   smoothness_worst  compactness_worst  concavity_worst  concave points_worst  \\\n",
            "0          1.307686           2.616665         2.109526              2.296076   \n",
            "1         -0.375612          -0.430444        -0.146749              1.087084   \n",
            "2          0.527407           1.082932         0.854974              1.955000   \n",
            "3          3.394275           3.893397         1.989588              2.175786   \n",
            "4          0.220556          -0.313395         0.613179              0.729259   \n",
            "\n",
            "   symmetry_worst  fractal_dimension_worst        id  \n",
            "0        2.750622                 1.937015    842302  \n",
            "1       -0.243890                 0.281190    842517  \n",
            "2        1.152255                 0.201391  84300903  \n",
            "3        6.046041                 4.935010  84348301  \n",
            "4       -0.868353                -0.397100  84358402  \n",
            "\n",
            "[5 rows x 32 columns]\n"
          ]
        }
      ]
    },
    {
      "cell_type": "markdown",
      "source": [
        "4. Lakukan proses stratified split data untuk membuat data latih dan data uji dengan rasio 80:20."
      ],
      "metadata": {
        "id": "WnesH7zh2jco"
      }
    },
    {
      "cell_type": "code",
      "source": [
        "X = df_clean.drop(columns=[\"id\", \"diagnosis\"])  # id tidak dipakai\n",
        "y = df_clean[\"diagnosis\"]\n",
        "\n",
        "X_train, X_test, y_train, y_test = train_test_split(\n",
        "    X, y, test_size=0.2, random_state=42, stratify=y\n",
        ")\n",
        "\n",
        "print(\"\\nShapes hasil split:\")\n",
        "print(\"X_train:\", X_train.shape)\n",
        "print(\"X_test :\", X_test.shape)\n",
        "print(\"y_train:\", y_train.shape)\n",
        "print(\"y_test :\", y_test.shape)\n",
        "\n",
        "print(\"\\nDistribusi kelas pada y_train:\")\n",
        "print(y_train.value_counts(normalize=True))\n",
        "\n",
        "print(\"\\nDistribusi kelas pada y_test:\")\n",
        "print(y_test.value_counts(normalize=True))"
      ],
      "metadata": {
        "id": "iM9KLo7_2m0Y",
        "colab": {
          "base_uri": "https://localhost:8080/"
        },
        "outputId": "a362081c-7e76-482f-c4e8-ef5b63edcf9c"
      },
      "execution_count": null,
      "outputs": [
        {
          "output_type": "stream",
          "name": "stdout",
          "text": [
            "\n",
            "Shapes hasil split:\n",
            "X_train: (455, 30)\n",
            "X_test : (114, 30)\n",
            "y_train: (455,)\n",
            "y_test : (114,)\n",
            "\n",
            "Distribusi kelas pada y_train:\n",
            "diagnosis\n",
            "1    0.626374\n",
            "0    0.373626\n",
            "Name: proportion, dtype: float64\n",
            "\n",
            "Distribusi kelas pada y_test:\n",
            "diagnosis\n",
            "1    0.631579\n",
            "0    0.368421\n",
            "Name: proportion, dtype: float64\n"
          ]
        }
      ]
    }
  ]
}